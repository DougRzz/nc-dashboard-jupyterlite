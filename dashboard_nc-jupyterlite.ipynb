{
  "metadata": {
    "kernelspec": {
      "name": "python",
      "display_name": "Pyolite",
      "language": "python"
    },
    "language_info": {
      "codemirror_mode": {
        "name": "python",
        "version": 3
      },
      "file_extension": ".py",
      "mimetype": "text/x-python",
      "name": "python",
      "nbconvert_exporter": "python",
      "pygments_lexer": "ipython3",
      "version": "3.8"
    },
    "widgets": {}
  },
  "nbformat_minor": 5,
  "nbformat": 4,
  "cells": [
    {
      "cell_type": "code",
      "source": "import micropip\nawait micropip.install(\"ipywidgets\")\nawait micropip.install(\"ipyvuetify\")\nawait micropip.install(\"ipyflex\")\n\npackage_url = \"https://raw.githubusercontent.com/innovationOUtside/ouseful_jupyterlite_utils/main/ouseful_jupyterlite_utils-0.0.2-py3-none-any.whl\"\n\nawait micropip.install(package_url)",
      "metadata": {
        "trusted": true
      },
      "execution_count": 10,
      "outputs": [],
      "id": "45186513-12a7-4ba0-990e-5f0756b7a738"
    },
    {
      "cell_type": "code",
      "source": "import os\n\nimport ipyvuetify as v\nimport ipywidgets as ipw\nfrom ipyflex import FlexLayout\nfrom ouseful_jupyterlite_utils import pandas_utils as pdu\n",
      "metadata": {
        "trusted": true
      },
      "execution_count": 11,
      "outputs": [],
      "id": "b99d8299-e2fb-41d7-a086-5a8af4cf826f"
    },
    {
      "cell_type": "code",
      "source": "voila = os.getenv(\"VOILA_KERNEL_ID\")\nif voila is not None:\n    editable = True\n#     height = \"calc(100vh - 60px)\"\n    height = \"2500px\"\nelse:\n    editable = True\n    height = \"2500px\"",
      "metadata": {
        "trusted": true
      },
      "execution_count": 4,
      "outputs": [],
      "id": "ebaae013-207f-4499-b602-1926f595cac4"
    },
    {
      "cell_type": "code",
      "source": "\nw = FlexLayout(\n    style={\"height\": height}, #\n    header={\"title\": \"Natluk Community DASHBOAD\", \"style\": {\"backgroundColor\": \"rgb(53 53 53)\"}}, # , \"buttons\":[\"export\",\"import\"]\n    template=\"NCw.json\",\n    editable=editable,f\n)\nstyle = ipw.HTML(\"\"\"<style>.js-plotly-plot {height: 100%;}</style> \"\"\")",
      "metadata": {
        "trusted": true
      },
      "execution_count": 7,
      "outputs": [],
      "id": "d2731aae-553a-4243-8e9b-1021329e4377"
    },
    {
      "cell_type": "code",
      "source": "# from transform.data_processing import get_all_addresses, read_data, read_global_data\nimport datetime as dt\nimport json\n\nimport pandas as pd\n# import streamlit as stF\n\nLP_METHODS = [\n    'Add Liquidity ETH',\n    'Remove Liquidity ETH With Permit Supporting Fee On Transfer Tokens',\n    'Remove Liquidity With Permit',\n    'Remove Liquidity'\n]\nFARMING_METHODS = ['Stake', 'Unstake']\nBUY_SELL_METHODS = [\n    'Swap Exact ETH For Tokens',\n    'Swap Exact Tokens For ETH Supporting Fee On Transfer Tokens',\n    'Swap Exact Tokens For Tokens',\n    'Swap Exact Tokens For Tokens Supporting Fee On Transfer Tokens',\n    'Swap ETH For Exact Tokens', 'Swap'\n]\n\nNC_PATH = r\"./data/NC.csv\"\nLP_PATH = r\"./data/LP.csv\"\n# GLOBAL_PATH = r\"./data/global_data.json\"\nglobal_data = {\n  \"nc_price\": 0.00018468120048354127,\n  \"uni_v2_price\": 0.03922657593908290804,\n  \"circulating_supply\": 41204856,\n  \"hodlers\": 88,\n  \"total_liquidity\": 83943.606229,\n  \"locked_lp_tokens\": 62057.88,\n  \"reward\": 1957000\n}\n\npd.options.mode.chained_assignment = None\n\ndef read_data():\n    nc = pdu.read_csv_local(NC_PATH)\n    lp = pdu.read_csv_local(LP_PATH)\n    return nc, lp\n\n\ndef read_global_data():\n    # with open(GLOBAL_PATH, 'r') as f:\n    #     data = json.load(f)\n    data = global_data\n    return data\n\n\ndef get_all_addresses(df):\n    addresses = set(df.From.unique())\n    addresses.update(df.To.unique())\n    addresses = list(addresses)\n    addresses.append('')\n    addresses.sort()\n    return addresses\n\n\ndef process_transaction_data(df, address=None, methods=None, scale=1, invert=False, subtract=None):\n    if address:\n        trn = df[(df['From'] == address) | (df['To'] == address)]\n    else:\n        trn = df\n\n    if methods:\n        trn = trn[trn['Method'].isin(methods)]\n\n    trn.loc[:, 'Balance'] = trn['Quantity']\n    trn.loc[:, 'Balance'][trn.From == address] *= -1\n    trn.loc[trn['Balance'] < 0, 'Balance'] /= scale\n    trn.loc[:, 'Balance'] = trn['Balance'].cumsum()\n    if invert:\n        trn.loc[:, 'Balance'] *= -1\n    if subtract:\n        trn.loc[:, 'Balance'] = subtract - trn.loc[:, 'Balance']\n    return trn\n\n\ndef get_days(trn):\n    return (dt.datetime.today() - trn.DateTime.min()).days\n\n\ndef get_ratios(trn, address, methods=None):\n    if methods is None:\n        methods = []\n    from_quantity = trn[trn.Method.isin(methods)][trn.From == address].Quantity.sum()\n    to_quantity = trn[trn.Method.isin(methods)][trn.To == address].Quantity.sum()\n    return from_quantity, to_quantity\n\n\n\nnc, lp = read_data()\nglobal_data = read_global_data()\n\nnc_price = global_data['nc_price']\nuni_v2_price = global_data['uni_v2_price']\ncirculating_supply = global_data['circulating_supply']\nholders = global_data['hodlers']\ntotal_liquidity = global_data['total_liquidity']\nlocked_lp_tokens = global_data['locked_lp_tokens']\nreward = global_data['reward']\n\naddresses = get_all_addresses(nc)",
      "metadata": {
        "trusted": true
      },
      "execution_count": 15,
      "outputs": [
        {
          "ename": "<class 'AttributeError'>",
          "evalue": "'coroutine' object has no attribute 'From'",
          "traceback": [
            "\u001b[0;31m---------------------------------------------------------------------------\u001b[0m",
            "\u001b[0;31mAttributeError\u001b[0m                            Traceback (most recent call last)",
            "Input \u001b[0;32mIn [15]\u001b[0m, in \u001b[0;36m<cell line: 104>\u001b[0;34m()\u001b[0m\n\u001b[1;32m    101\u001b[0m locked_lp_tokens \u001b[38;5;241m=\u001b[39m global_data[\u001b[38;5;124m'\u001b[39m\u001b[38;5;124mlocked_lp_tokens\u001b[39m\u001b[38;5;124m'\u001b[39m]\n\u001b[1;32m    102\u001b[0m reward \u001b[38;5;241m=\u001b[39m global_data[\u001b[38;5;124m'\u001b[39m\u001b[38;5;124mreward\u001b[39m\u001b[38;5;124m'\u001b[39m]\n\u001b[0;32m--> 104\u001b[0m addresses \u001b[38;5;241m=\u001b[39m \u001b[43mget_all_addresses\u001b[49m\u001b[43m(\u001b[49m\u001b[43mnc\u001b[49m\u001b[43m)\u001b[49m\n",
            "Input \u001b[0;32mIn [15]\u001b[0m, in \u001b[0;36mget_all_addresses\u001b[0;34m(df)\u001b[0m\n\u001b[1;32m     51\u001b[0m \u001b[38;5;28;01mdef\u001b[39;00m \u001b[38;5;21mget_all_addresses\u001b[39m(df):\n\u001b[0;32m---> 52\u001b[0m     addresses \u001b[38;5;241m=\u001b[39m \u001b[38;5;28mset\u001b[39m(\u001b[43mdf\u001b[49m\u001b[38;5;241;43m.\u001b[39;49m\u001b[43mFrom\u001b[49m\u001b[38;5;241m.\u001b[39munique())\n\u001b[1;32m     53\u001b[0m     addresses\u001b[38;5;241m.\u001b[39mupdate(df\u001b[38;5;241m.\u001b[39mTo\u001b[38;5;241m.\u001b[39munique())\n\u001b[1;32m     54\u001b[0m     addresses \u001b[38;5;241m=\u001b[39m \u001b[38;5;28mlist\u001b[39m(addresses)\n",
            "\u001b[0;31mAttributeError\u001b[0m: 'coroutine' object has no attribute 'From'"
          ],
          "output_type": "error"
        }
      ],
      "id": "fe9270ce"
    },
    {
      "cell_type": "code",
      "source": "?pdu.read_csv_local",
      "metadata": {
        "trusted": true
      },
      "execution_count": 18,
      "outputs": [
        {
          "name": "stdout",
          "text": "\u001b[0;31mSignature:\u001b[0m \u001b[0mpdu\u001b[0m\u001b[0;34m.\u001b[0m\u001b[0mread_csv_local\u001b[0m\u001b[0;34m(\u001b[0m\u001b[0mfn\u001b[0m\u001b[0;34m,\u001b[0m \u001b[0msep\u001b[0m\u001b[0;34m=\u001b[0m\u001b[0;34m','\u001b[0m\u001b[0;34m)\u001b[0m\u001b[0;34m\u001b[0m\u001b[0;34m\u001b[0m\u001b[0m\n\u001b[0;31mFile:\u001b[0m      /lib/python3.9/site-packages/ouseful_jupyterlite_utils/pandas_utils.py\n\u001b[0;31mType:\u001b[0m      function\n\n",
          "output_type": "stream"
        }
      ],
      "id": "b43d8180-0dc1-4643-8fd6-33283257b3c5"
    },
    {
      "cell_type": "code",
      "source": "nc",
      "metadata": {
        "trusted": true
      },
      "execution_count": 16,
      "outputs": [
        {
          "execution_count": 16,
          "output_type": "execute_result",
          "data": {
            "text/plain": "<coroutine object read_csv_local at 0x51b2df8>"
          },
          "metadata": {}
        }
      ],
      "id": "866b40c2-c988-416e-9c9a-2fda4df87b08"
    },
    {
      "cell_type": "code",
      "source": "info_data= [\n{'title': \"Market Cap\", 'value': f'${1_000_000_000 * nc_price:,.2f} USD'},\n{'title': \"Circulating supply\", 'value': f'{circulating_supply:,} NC'},\n{'title': \"Circulating Market Cap\", 'value': f'${circulating_supply * nc_price:,.2f} USD'},\n{'title': \"Holders\", 'value': f'{holders} addresses'},\n\n{'title': \"Transactions\", 'value': f'{len(nc)}'},\n{'title': \"Total liquidity\", 'value': f'{total_liquidity:,.2f} UNI-V2'},\n{'title': \"LP value\", 'value': f'{total_liquidity * uni_v2_price:,.2f} USD'},\n{'title': \"Locked LP tokens\", 'value': f'{locked_lp_tokens:,.2f} UNI-V2'},\n\n\n{'title': \"Locked tokens ratio\", 'value': f'{(locked_lp_tokens / total_liquidity) * 100:,.2f}%'},\n{'title': \"Locked LP value\", 'value': f'{locked_lp_tokens * uni_v2_price:,.2f} USD'},\n{'title': \"Reward value\", 'value': f'{(reward * nc_price):,.2f} USD'},\n{'title': \"Reward\", 'value': f'{reward:,} NC'},\n]",
      "metadata": {
        "trusted": true
      },
      "execution_count": 9,
      "outputs": [
        {
          "ename": "<class 'NameError'>",
          "evalue": "name 'nc_price' is not defined",
          "traceback": [
            "\u001b[0;31m---------------------------------------------------------------------------\u001b[0m",
            "\u001b[0;31mNameError\u001b[0m                                 Traceback (most recent call last)",
            "Input \u001b[0;32mIn [9]\u001b[0m, in \u001b[0;36m<cell line: 2>\u001b[0;34m()\u001b[0m\n\u001b[1;32m      1\u001b[0m info_data\u001b[38;5;241m=\u001b[39m [\n\u001b[0;32m----> 2\u001b[0m {\u001b[38;5;124m'\u001b[39m\u001b[38;5;124mtitle\u001b[39m\u001b[38;5;124m'\u001b[39m: \u001b[38;5;124m\"\u001b[39m\u001b[38;5;124mMarket Cap\u001b[39m\u001b[38;5;124m\"\u001b[39m, \u001b[38;5;124m'\u001b[39m\u001b[38;5;124mvalue\u001b[39m\u001b[38;5;124m'\u001b[39m: \u001b[38;5;124mf\u001b[39m\u001b[38;5;124m'\u001b[39m\u001b[38;5;124m$\u001b[39m\u001b[38;5;132;01m{\u001b[39;00m\u001b[38;5;241m1_000_000_000\u001b[39m \u001b[38;5;241m*\u001b[39m nc_price\u001b[38;5;132;01m:\u001b[39;00m\u001b[38;5;124m,.2f\u001b[39m\u001b[38;5;132;01m}\u001b[39;00m\u001b[38;5;124m USD\u001b[39m\u001b[38;5;124m'\u001b[39m},\n\u001b[1;32m      3\u001b[0m {\u001b[38;5;124m'\u001b[39m\u001b[38;5;124mtitle\u001b[39m\u001b[38;5;124m'\u001b[39m: \u001b[38;5;124m\"\u001b[39m\u001b[38;5;124mCirculating supply\u001b[39m\u001b[38;5;124m\"\u001b[39m, \u001b[38;5;124m'\u001b[39m\u001b[38;5;124mvalue\u001b[39m\u001b[38;5;124m'\u001b[39m: \u001b[38;5;124mf\u001b[39m\u001b[38;5;124m'\u001b[39m\u001b[38;5;132;01m{\u001b[39;00mcirculating_supply\u001b[38;5;132;01m:\u001b[39;00m\u001b[38;5;124m,\u001b[39m\u001b[38;5;132;01m}\u001b[39;00m\u001b[38;5;124m NC\u001b[39m\u001b[38;5;124m'\u001b[39m},\n\u001b[1;32m      4\u001b[0m {\u001b[38;5;124m'\u001b[39m\u001b[38;5;124mtitle\u001b[39m\u001b[38;5;124m'\u001b[39m: \u001b[38;5;124m\"\u001b[39m\u001b[38;5;124mCirculating Market Cap\u001b[39m\u001b[38;5;124m\"\u001b[39m, \u001b[38;5;124m'\u001b[39m\u001b[38;5;124mvalue\u001b[39m\u001b[38;5;124m'\u001b[39m: \u001b[38;5;124mf\u001b[39m\u001b[38;5;124m'\u001b[39m\u001b[38;5;124m$\u001b[39m\u001b[38;5;132;01m{\u001b[39;00mcirculating_supply \u001b[38;5;241m*\u001b[39m nc_price\u001b[38;5;132;01m:\u001b[39;00m\u001b[38;5;124m,.2f\u001b[39m\u001b[38;5;132;01m}\u001b[39;00m\u001b[38;5;124m USD\u001b[39m\u001b[38;5;124m'\u001b[39m},\n\u001b[1;32m      5\u001b[0m {\u001b[38;5;124m'\u001b[39m\u001b[38;5;124mtitle\u001b[39m\u001b[38;5;124m'\u001b[39m: \u001b[38;5;124m\"\u001b[39m\u001b[38;5;124mHolders\u001b[39m\u001b[38;5;124m\"\u001b[39m, \u001b[38;5;124m'\u001b[39m\u001b[38;5;124mvalue\u001b[39m\u001b[38;5;124m'\u001b[39m: \u001b[38;5;124mf\u001b[39m\u001b[38;5;124m'\u001b[39m\u001b[38;5;132;01m{\u001b[39;00mholders\u001b[38;5;132;01m}\u001b[39;00m\u001b[38;5;124m addresses\u001b[39m\u001b[38;5;124m'\u001b[39m},\n\u001b[1;32m      6\u001b[0m \n\u001b[1;32m      7\u001b[0m {\u001b[38;5;124m'\u001b[39m\u001b[38;5;124mtitle\u001b[39m\u001b[38;5;124m'\u001b[39m: \u001b[38;5;124m\"\u001b[39m\u001b[38;5;124mTransactions\u001b[39m\u001b[38;5;124m\"\u001b[39m, \u001b[38;5;124m'\u001b[39m\u001b[38;5;124mvalue\u001b[39m\u001b[38;5;124m'\u001b[39m: \u001b[38;5;124mf\u001b[39m\u001b[38;5;124m'\u001b[39m\u001b[38;5;132;01m{\u001b[39;00m\u001b[38;5;28mlen\u001b[39m(nc)\u001b[38;5;132;01m}\u001b[39;00m\u001b[38;5;124m'\u001b[39m},\n\u001b[1;32m      8\u001b[0m {\u001b[38;5;124m'\u001b[39m\u001b[38;5;124mtitle\u001b[39m\u001b[38;5;124m'\u001b[39m: \u001b[38;5;124m\"\u001b[39m\u001b[38;5;124mTotal liquidity\u001b[39m\u001b[38;5;124m\"\u001b[39m, \u001b[38;5;124m'\u001b[39m\u001b[38;5;124mvalue\u001b[39m\u001b[38;5;124m'\u001b[39m: \u001b[38;5;124mf\u001b[39m\u001b[38;5;124m'\u001b[39m\u001b[38;5;132;01m{\u001b[39;00mtotal_liquidity\u001b[38;5;132;01m:\u001b[39;00m\u001b[38;5;124m,.2f\u001b[39m\u001b[38;5;132;01m}\u001b[39;00m\u001b[38;5;124m UNI-V2\u001b[39m\u001b[38;5;124m'\u001b[39m},\n\u001b[1;32m      9\u001b[0m {\u001b[38;5;124m'\u001b[39m\u001b[38;5;124mtitle\u001b[39m\u001b[38;5;124m'\u001b[39m: \u001b[38;5;124m\"\u001b[39m\u001b[38;5;124mLP value\u001b[39m\u001b[38;5;124m\"\u001b[39m, \u001b[38;5;124m'\u001b[39m\u001b[38;5;124mvalue\u001b[39m\u001b[38;5;124m'\u001b[39m: \u001b[38;5;124mf\u001b[39m\u001b[38;5;124m'\u001b[39m\u001b[38;5;132;01m{\u001b[39;00mtotal_liquidity \u001b[38;5;241m*\u001b[39m uni_v2_price\u001b[38;5;132;01m:\u001b[39;00m\u001b[38;5;124m,.2f\u001b[39m\u001b[38;5;132;01m}\u001b[39;00m\u001b[38;5;124m USD\u001b[39m\u001b[38;5;124m'\u001b[39m},\n\u001b[1;32m     10\u001b[0m {\u001b[38;5;124m'\u001b[39m\u001b[38;5;124mtitle\u001b[39m\u001b[38;5;124m'\u001b[39m: \u001b[38;5;124m\"\u001b[39m\u001b[38;5;124mLocked LP tokens\u001b[39m\u001b[38;5;124m\"\u001b[39m, \u001b[38;5;124m'\u001b[39m\u001b[38;5;124mvalue\u001b[39m\u001b[38;5;124m'\u001b[39m: \u001b[38;5;124mf\u001b[39m\u001b[38;5;124m'\u001b[39m\u001b[38;5;132;01m{\u001b[39;00mlocked_lp_tokens\u001b[38;5;132;01m:\u001b[39;00m\u001b[38;5;124m,.2f\u001b[39m\u001b[38;5;132;01m}\u001b[39;00m\u001b[38;5;124m UNI-V2\u001b[39m\u001b[38;5;124m'\u001b[39m},\n\u001b[1;32m     11\u001b[0m \n\u001b[1;32m     12\u001b[0m \n\u001b[1;32m     13\u001b[0m {\u001b[38;5;124m'\u001b[39m\u001b[38;5;124mtitle\u001b[39m\u001b[38;5;124m'\u001b[39m: \u001b[38;5;124m\"\u001b[39m\u001b[38;5;124mLocked tokens ratio\u001b[39m\u001b[38;5;124m\"\u001b[39m, \u001b[38;5;124m'\u001b[39m\u001b[38;5;124mvalue\u001b[39m\u001b[38;5;124m'\u001b[39m: \u001b[38;5;124mf\u001b[39m\u001b[38;5;124m'\u001b[39m\u001b[38;5;132;01m{\u001b[39;00m(locked_lp_tokens \u001b[38;5;241m/\u001b[39m total_liquidity) \u001b[38;5;241m*\u001b[39m \u001b[38;5;241m100\u001b[39m\u001b[38;5;132;01m:\u001b[39;00m\u001b[38;5;124m,.2f\u001b[39m\u001b[38;5;132;01m}\u001b[39;00m\u001b[38;5;124m%\u001b[39m\u001b[38;5;124m'\u001b[39m},\n\u001b[1;32m     14\u001b[0m {\u001b[38;5;124m'\u001b[39m\u001b[38;5;124mtitle\u001b[39m\u001b[38;5;124m'\u001b[39m: \u001b[38;5;124m\"\u001b[39m\u001b[38;5;124mLocked LP value\u001b[39m\u001b[38;5;124m\"\u001b[39m, \u001b[38;5;124m'\u001b[39m\u001b[38;5;124mvalue\u001b[39m\u001b[38;5;124m'\u001b[39m: \u001b[38;5;124mf\u001b[39m\u001b[38;5;124m'\u001b[39m\u001b[38;5;132;01m{\u001b[39;00mlocked_lp_tokens \u001b[38;5;241m*\u001b[39m uni_v2_price\u001b[38;5;132;01m:\u001b[39;00m\u001b[38;5;124m,.2f\u001b[39m\u001b[38;5;132;01m}\u001b[39;00m\u001b[38;5;124m USD\u001b[39m\u001b[38;5;124m'\u001b[39m},\n\u001b[1;32m     15\u001b[0m {\u001b[38;5;124m'\u001b[39m\u001b[38;5;124mtitle\u001b[39m\u001b[38;5;124m'\u001b[39m: \u001b[38;5;124m\"\u001b[39m\u001b[38;5;124mReward value\u001b[39m\u001b[38;5;124m\"\u001b[39m, \u001b[38;5;124m'\u001b[39m\u001b[38;5;124mvalue\u001b[39m\u001b[38;5;124m'\u001b[39m: \u001b[38;5;124mf\u001b[39m\u001b[38;5;124m'\u001b[39m\u001b[38;5;132;01m{\u001b[39;00m(reward \u001b[38;5;241m*\u001b[39m nc_price)\u001b[38;5;132;01m:\u001b[39;00m\u001b[38;5;124m,.2f\u001b[39m\u001b[38;5;132;01m}\u001b[39;00m\u001b[38;5;124m USD\u001b[39m\u001b[38;5;124m'\u001b[39m},\n\u001b[1;32m     16\u001b[0m {\u001b[38;5;124m'\u001b[39m\u001b[38;5;124mtitle\u001b[39m\u001b[38;5;124m'\u001b[39m: \u001b[38;5;124m\"\u001b[39m\u001b[38;5;124mReward\u001b[39m\u001b[38;5;124m\"\u001b[39m, \u001b[38;5;124m'\u001b[39m\u001b[38;5;124mvalue\u001b[39m\u001b[38;5;124m'\u001b[39m: \u001b[38;5;124mf\u001b[39m\u001b[38;5;124m'\u001b[39m\u001b[38;5;132;01m{\u001b[39;00mreward\u001b[38;5;132;01m:\u001b[39;00m\u001b[38;5;124m,\u001b[39m\u001b[38;5;132;01m}\u001b[39;00m\u001b[38;5;124m NC\u001b[39m\u001b[38;5;124m'\u001b[39m},\n\u001b[1;32m     17\u001b[0m ]\n",
            "\u001b[0;31mNameError\u001b[0m: name 'nc_price' is not defined"
          ],
          "output_type": "error"
        }
      ],
      "id": "cd6a5612"
    },
    {
      "cell_type": "code",
      "source": "",
      "metadata": {},
      "execution_count": null,
      "outputs": [],
      "id": "def7b638-a792-4bc4-8c6b-749b4f0b7ac4"
    },
    {
      "cell_type": "code",
      "source": "def create_plot(transactions, title = None):\n    transactions = transactions.rename(columns={'DateTime': 'Date'})\n    fig = px.line(transactions, x='Date', y='Balance', template = 'plotly_dark', title = f'<span style=\"font-size: 36px; font-family:calibri\">{title}')\n    fig.layout.xaxis.rangeslider.visible = False\n    fig.layout.autosize = True\n\n    return go.FigureWidget(fig,  layout=ipw.Layout(height='100%')) #\n",
      "metadata": {},
      "execution_count": 190,
      "outputs": [],
      "id": "f0aefab0"
    },
    {
      "cell_type": "code",
      "source": "import plotly.express as px\nimport plotly.graph_objects as go\n\nlp_transactions = process_transaction_data(lp, '0x0000000000000000000000000000000000000000', invert=True)\n\nLP_fig_widget_main = create_plot(lp_transactions, title = \"LP Balance history\")\n",
      "metadata": {},
      "execution_count": 191,
      "outputs": [],
      "id": "12b111c8"
    },
    {
      "cell_type": "code",
      "source": "transactions = process_transaction_data(nc, '0xba93f37118f9d0ac9f620cd7bfb9fd79635db7d3', subtract=1_000_000_000)\n\nCS_fig_widget = create_plot(transactions, title = \"Circulating supply history\")\n",
      "metadata": {},
      "execution_count": 192,
      "outputs": [],
      "id": "d642c874"
    },
    {
      "cell_type": "code",
      "source": "\nfrom typing import Dict, List\ndef financial_info_factory(data: List[Dict], logo_url: str = None) -> v.Html:\n    children = []\n    if logo_url is not None:\n        logo = v.Card(\n            outlined=True,\n            class_='ma-1',\n            children=[v.Img(src=logo_url, height='130px', contain=True)],\n            style_='width: calc(12.5% - 8px); min-width: 140px; height: calc(50% - 8px)',\n        )\n        children.append(logo)\n\n    for item in data:\n        card = v.Card(\n            outlined=True,\n            class_='ma-1',\n            children=[\n                v.CardTitle(\n                    primary_title=True,\n                    children=[item['title']],\n                    style_='min-height: 100px; font-size: 16px; color: #51ef98',\n                ),\n                v.CardText(children=[str(item['value'])], style_=' font-size: 12px'),\n            ],\n            style_=' width: calc(12.5% - 8px); min-width: 140px; height: calc(50% - 8px)', #height:100%:\n        )\n        children.append(card)\n    return v.Row(\n        tag='div',\n        class_='d-flex align-content-start flex-wrap',\n        children=children,\n        # style_='flex-wrap: wrap',\n    )",
      "metadata": {},
      "execution_count": 193,
      "outputs": [],
      "id": "c0542958"
    },
    {
      "cell_type": "code",
      "source": "info = financial_info_factory(info_data, 'https://natluk.finance/assets/logo-NC-spinning-slow.4b211062.gif')\n\nwidgets = {\n    \"info\": info,  # single values\n    \"Circulating supply\": CS_fig_widget, # ticker  price chart\n    \"LP balance\": LP_fig_widget_main, # price hitory\n}",
      "metadata": {},
      "execution_count": 194,
      "outputs": [],
      "id": "69f9c03e-f04f-4307-9ee1-6c1519f1d0e5"
    },
    {
      "cell_type": "code",
      "source": "for key, value in widgets.items():\n    w.add(key, value)",
      "metadata": {},
      "execution_count": 195,
      "outputs": [],
      "id": "822c0bb6"
    },
    {
      "cell_type": "code",
      "source": "style = ipw.HTML(\"\"\"<style>.js-plotly-plot {height: 100%;}</style> \"\"\")\nipw.VBox([w, style])",
      "metadata": {},
      "execution_count": 196,
      "outputs": [
        {
          "output_type": "display_data",
          "data": {
            "application/vnd.jupyter.widget-view+json": {
              "model_id": "3cfd03c515624610805e62e49bb64f17",
              "version_major": 2,
              "version_minor": 0
            },
            "text/plain": [
              "VBox(children=(FlexLayout(children={'info': Row(children=[Card(children=[Img(contain=True, height='130px', src…"
            ]
          },
          "metadata": {}
        }
      ],
      "id": "599965a0-1ca7-4eb2-9a9d-30c505ea6be4"
    },
    {
      "cell_type": "code",
      "source": "# def one_address_page(nc, lp, address, nc_price, uni_v2_price):\n# #     st.header('Address details')\n\n\n\ndef onChange_addresses_select(change):\n    if change['type'] == 'change' and change['name'] == 'v_model':\n        print(change)\n        addresses_select.loading = True\n        address = change['new']\n        transactions = process_transaction_data(nc, address, scale=0.95)\n        has_transactions = len(transactions) > 0\n        \n        if has_transactions:\n            addresses_select.rules = None\n            lp_transactions = process_transaction_data(lp, address)\n            farm_transactions = process_transaction_data(lp, address, FARMING_METHODS)\n            has_lp_transactions = len(lp_transactions) > 0\n            has_farm_transactions = len(farm_transactions) > 0\n            balance = abs(transactions.tail(1)['Balance'].values[0])\n            sells, buys = get_ratios(transactions, address, BUY_SELL_METHODS)\n\n            #     st.subheader('NC stats')\n            # transactions, lp_transactions, farm_transactions, has_lp_transactions, has_farm_transactions,balance,sells, buys =  one_address_page(nc, lp, address, nc_price, uni_v2_price)\n\n            transfered, received = get_ratios(transactions, address, ['Transfer'])\n\n            NC_stats = [ \n                {'title':  \"Time\", 'value': f'{get_days(transactions)} days'},\n                {'title':  \"Balance\", 'value': f'{balance:,.2f} NC'},\n                {'title':  \"Buys\", 'value': f'{buys:,.2f} NC'},\n                {'title':  \"Sells\", 'value': f'{sells:,.2f} NC'},\n                {'title':  \"Transfered\", 'value': f'{transfered:,.2f} NC'},\n                {'title':  \"Received\", 'value': f'{received:,.2f} NC'},\n                {'title':  \"NC price\", 'value': f\"{nc_price:,.9f} USD\"},\n                {'title':  \"Value\", 'value': f\"{balance * nc_price:,.2f} USD\"},\n            ]\n\n            NC_info = financial_info_factory(NC_stats, 'https://natluk.finance/assets/logo-NC-spinning-slow.4b211062.gif')\n#             NC_info.style_='width:60%'\n#             NC_fig_widget = create_plot(transactions, title = \"NC Balance History\")\n            fig_widget = w.children['NC history']\n            fig_widget.data[0].x = transactions['DateTime']\n            fig_widget.data[0].y = transactions['Balance']\n            fig_widget.layout.xaxis.visible=True\n            fig_widget.layout.yaxis.visible=True\n            NC_col.children=[NC_info]\n#             NC_history_col.children=[NC_fig_widget]\n\n\n\n            if has_lp_transactions:\n                lp_balance = abs(lp_transactions.tail(1)['Balance'].values[0])\n                removed, added = get_ratios(lp_transactions, address, LP_METHODS)\n                LP_stats = [\n                    {'title':  \"Time\", 'value': f'{get_days(lp_transactions)} days'},\n                    {'title':  \"Balance\", 'value': f'{lp_balance:,.2f} UNI-V2'},\n                    {'title':  \"Added liquidity\", 'value': f'{added:,.2f} UNI-V2'},\n                    {'title':  \"Removed liquidity\", 'value': f'{removed:,.2f} UNI-V2'},\n                    {'title':  \"LP price\", 'value': f'{uni_v2_price:,.9f} USD'},\n                    {'title':  \"Value\", 'value': f'{(lp_balance * uni_v2_price):,.2f} USD'},\n                ]\n                LP_info = financial_info_factory(LP_stats, 'https://natluk.finance/assets/logo-NC-spinning-slow.4b211062.gif')\n\n#                 LP_fig_widget = create_plot(lp_transactions, title = \"LP Balance History\")\n\n                LP_col.children=[LP_info]\n#                 LP_history_col = [LP_fig_widget]\n                \n                fig_widget = w.children['LP history']\n                fig_widget.data[0].x = transactions['DateTime']\n                fig_widget.data[0].y = transactions['Balance']\n                fig_widget.layout.xaxis.visible=True\n                fig_widget.layout.yaxis.visible=True\n            \n            else:\n                LP_col.children=[]\n                LP_history_col.children=[]\n\n\n            if has_farm_transactions:\n                farm_balance = abs(-farm_transactions.tail(1)['Balance'].values[0])\n                added, removed = get_ratios(lp_transactions, address, FARMING_METHODS)\n                _, claimed = get_ratios(transactions, address, ['Claim'])\n                claimed_value = nc_price * claimed\n                stacked_value = farm_balance * uni_v2_price\n\n                Farm_stats = [\n                    {'title':  \"Time\", 'value': f'{get_days(farm_transactions)} days'},\n                    {'title':  \"Balance\", 'value': f'{farm_balance:,.2f} UNI-V2'},\n                    {'title':  \"Staked\", 'value': f'{added:,.2f} UNI-V2'},\n                    {'title':  \"Unstaked\", 'value': f'{removed:,.2f} UNI-V2'},\n                    {'title':  \"Claimed\", 'value': f'{claimed:,.2f} NC'},\n                    {'title':  \"Claimed Value\", 'value': f'{claimed_value:,.2f} USD'},\n                    {'title':  \"Stacked Value\", 'value': f'{stacked_value:,.2f} USD'},\n                ]\n\n                farm_info = financial_info_factory(Farm_stats, 'https://natluk.finance/assets/logo-NC-spinning-slow.4b211062.gif')\n                farm_col.children=[farm_info]\n            else:\n                farm_col.children=[]\n        else:\n            addresses_select.rules = ['Please enter a valid address']\n            NC_col.children=[]\n            w.children['NC stats'].layout.xaxis.visible=False\n            w.children['NC stats'].layout.yaxis.visible=False            \n            LP_col.children=[]\n            w.children['LP stats'].layout.xaxis.visible=False\n            w.children['LP stats'].layout.yaxis.visible=False              \n            LP_history_col.children=[]\n            farm_col.children=[]\n\n        addresses_select.loading = False\n        \n            ",
      "metadata": {},
      "execution_count": 197,
      "outputs": [],
      "id": "e38f6c14"
    },
    {
      "cell_type": "code",
      "source": "addresses_select = v.Combobox(\n                          class_='pa-8 d-flex align-center ', \n#     style_ = 'min-height:100%',\n#                           multiple=True ,\n#                           chips=True ,\n#                           deletable_chips=True ,\n#                           filter=True,\n                          clearable = True,\n                          items = addresses,\n                          v_model=[],\n                          label='Select address from list or enter new address:',\n                          disabled=False)",
      "metadata": {},
      "execution_count": 198,
      "outputs": [],
      "id": "6b26afdf"
    },
    {
      "cell_type": "code",
      "source": "addresses_select.observe(onChange_addresses_select)\n# addresses_select",
      "metadata": {},
      "execution_count": 199,
      "outputs": [],
      "id": "48486ea6"
    },
    {
      "cell_type": "code",
      "source": "w.add(\"Select Address\", addresses_select)",
      "metadata": {},
      "execution_count": 200,
      "outputs": [],
      "id": "e091cf77"
    },
    {
      "cell_type": "code",
      "source": "# addresses_select.v_model = '0x019ab42f50c89d8962bbcf33b94a39718a0058f5'",
      "metadata": {},
      "execution_count": 201,
      "outputs": [],
      "id": "6cb9f998"
    },
    {
      "cell_type": "code",
      "source": "import pandas as pd\nimport numpy as np\nNC_col = v.Col(children=[])      \nw.add(\"NC stats\", NC_col)\nNC_plot = create_plot(pd.DataFrame( {'Date':[np.nan], 'Balance':[np.nan]}), title = \"NC Balance History\")\nNC_plot.layout.xaxis.visible=False\nNC_plot.layout.yaxis.visible=False\nw.add(\"NC history\", NC_plot)\n\nLP_col = v.Col(children=[])      \nw.add(\"LP stats\", LP_col)\nLP_plot = create_plot(pd.DataFrame( {'Date':[np.nan], 'Balance':[np.nan]}), title = \"LP Balance History\")\nLP_plot.layout.xaxis.visible=False\nLP_plot.layout.yaxis.visible=False\nw.add(\"LP history\", LP_plot)\n\nfarm_col = v.Col(children=[])\nw.add(\"Farm stats\", farm_col)\n",
      "metadata": {},
      "execution_count": 202,
      "outputs": [],
      "id": "c1cb61a2"
    },
    {
      "cell_type": "code",
      "source": "",
      "metadata": {},
      "execution_count": null,
      "outputs": [],
      "id": "ab56b380"
    },
    {
      "cell_type": "code",
      "source": "#legend\nNC_plot.layout.showlegend=False\nNC_plot.layout.xaxis.visible=False\nNC_plot.layout.yaxis.visible=False\n",
      "metadata": {},
      "execution_count": 203,
      "outputs": [],
      "id": "42d4a0c0"
    },
    {
      "cell_type": "code",
      "source": "",
      "metadata": {},
      "execution_count": null,
      "outputs": [],
      "id": "cef90a7f"
    }
  ]
}